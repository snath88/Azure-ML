{
  "cells": [
    {
      "cell_type": "markdown",
      "source": [
        "# 1. Use a Command Job to create a Machine Learning Model"
      ],
      "metadata": {
        "nteract": {
          "transient": {
            "deleting": false
          }
        }
      }
    },
    {
      "cell_type": "markdown",
      "source": [
        "A Command Job in Azure Machine Learning (Azure ML) is a job type that allows you to execute a Python script, shell command, or any executable in a containerized environment. It is often used to run machine learning training scripts, data preprocessing steps, or custom tasks in Azure ML."
      ],
      "metadata": {
        "nteract": {
          "transient": {
            "deleting": false
          }
        }
      }
    },
    {
      "cell_type": "markdown",
      "source": [
        "For command job the below arguments are required\n",
        "- code: Path to the directory containing the script or code files.\n",
        "- command: The command to execute, often invoking the script (e.g., python train.py).\n",
        "- inputs: Dictionary of inputs passed to the script (e.g., data paths, hyperparameters).\n",
        "- outputs: Dictionary of outputs produced by the script (e.g., model files).\n",
        "- environment: The runtime environment, including dependencies (e.g., Python packages, Docker image).\n",
        "- compute: The compute target to use (e.g., a virtual machine or compute cluster in Azure ML).\n",
        "- description: A brief description of the job's purpose.\n"
      ],
      "metadata": {
        "nteract": {
          "transient": {
            "deleting": false
          }
        }
      }
    },
    {
      "cell_type": "code",
      "source": [
        "## Create a handle to Workspace\n",
        "from azure.ai.ml import MLClient\n",
        "from azure.identity import DefaultAzureCredential\n",
        "subscription='73f10b45-ec04-427e-a5d6-42ed4e79c537'\n",
        "resourcegroup='MLRG01'\n",
        "workspace='AzureMLWS01'\n",
        "\n",
        "ml_client=MLClient(credential=DefaultAzureCredential(),\n",
        "subscription_id=subscription,\n",
        "resource_group_name=resourcegroup,\n",
        "workspace_name=workspace)"
      ],
      "outputs": [],
      "execution_count": 1,
      "metadata": {
        "jupyter": {
          "source_hidden": false,
          "outputs_hidden": false
        },
        "nteract": {
          "transient": {
            "deleting": false
          }
        },
        "gather": {
          "logged": 1737394954798
        }
      }
    },
    {
      "cell_type": "code",
      "source": [
        "ml_client.workspace_name"
      ],
      "outputs": [
        {
          "output_type": "execute_result",
          "execution_count": 2,
          "data": {
            "text/plain": "'AzureMLWS01'"
          },
          "metadata": {}
        }
      ],
      "execution_count": 2,
      "metadata": {
        "jupyter": {
          "source_hidden": false,
          "outputs_hidden": false
        },
        "nteract": {
          "transient": {
            "deleting": false
          }
        },
        "gather": {
          "logged": 1737394958074
        }
      }
    },
    {
      "cell_type": "code",
      "source": [
        "ws=ml_client.workspaces.get(workspace)\n",
        "ws.name, ws.resource_group"
      ],
      "outputs": [
        {
          "output_type": "execute_result",
          "execution_count": 3,
          "data": {
            "text/plain": "('AzureMLWS01', 'MLRG01')"
          },
          "metadata": {}
        }
      ],
      "execution_count": 3,
      "metadata": {
        "jupyter": {
          "source_hidden": false,
          "outputs_hidden": false
        },
        "nteract": {
          "transient": {
            "deleting": false
          }
        },
        "gather": {
          "logged": 1737394960799
        }
      }
    },
    {
      "cell_type": "markdown",
      "source": [
        "# 2. Create the job Env"
      ],
      "metadata": {
        "nteract": {
          "transient": {
            "deleting": false
          }
        }
      }
    },
    {
      "cell_type": "code",
      "source": [
        "import os\n",
        "dependecies_dir='../dependencies'\n",
        "os.makedirs(dependecies_dir,exist_ok=True)\n",
        "#Users/mr.snath88/dependencies\n",
        "## then upload the conda.yaml file"
      ],
      "outputs": [],
      "execution_count": 8,
      "metadata": {
        "jupyter": {
          "source_hidden": false,
          "outputs_hidden": false
        },
        "nteract": {
          "transient": {
            "deleting": false
          }
        },
        "gather": {
          "logged": 1737304980888
        }
      }
    },
    {
      "cell_type": "code",
      "source": [
        "from azure.ai.ml.entities import Environment\n",
        "\n",
        "custom_job_env = Environment(\n",
        "    name=\"sklearn-env\",\n",
        "    description=\"Environment for sklearn-based training\",\n",
        "    conda_file=\"../dependencies/conda.yaml\",\n",
        "    image=\"mcr.microsoft.com/azureml/openmpi4.1.0-ubuntu20.04:latest\",\n",
        ")\n",
        "\n",
        "custom_job_env=ml_client.environments.create_or_update(custom_job_env)\n",
        "\n",
        "print(f'Env: {custom_job_env.name} created and the version is {custom_job_env.version}')"
      ],
      "outputs": [
        {
          "output_type": "stream",
          "name": "stdout",
          "text": "Env: sklearn-env created and the version is 9\n"
        }
      ],
      "execution_count": 13,
      "metadata": {
        "jupyter": {
          "source_hidden": false,
          "outputs_hidden": false
        },
        "nteract": {
          "transient": {
            "deleting": false
          }
        },
        "gather": {
          "logged": 1737334448158
        }
      }
    },
    {
      "cell_type": "markdown",
      "source": [
        "# 3. Create Training Script"
      ],
      "metadata": {
        "nteract": {
          "transient": {
            "deleting": false
          }
        }
      }
    },
    {
      "cell_type": "code",
      "source": [
        "## create directory\n",
        "script_path='../src'\n",
        "os.makedirs(script_path,exist_ok=True)"
      ],
      "outputs": [],
      "execution_count": 14,
      "metadata": {
        "jupyter": {
          "source_hidden": false,
          "outputs_hidden": false
        },
        "nteract": {
          "transient": {
            "deleting": false
          }
        },
        "gather": {
          "logged": 1737308735685
        }
      }
    },
    {
      "cell_type": "markdown",
      "source": [
        "# 4. Configure the command"
      ],
      "metadata": {
        "nteract": {
          "transient": {
            "deleting": false
          }
        }
      }
    },
    {
      "cell_type": "code",
      "source": [
        "from azure.ai.ml import command\n",
        "# Define the command job\n",
        "# job = command(\n",
        "#     code=\"./\",  # Path to the directory containing the script\n",
        "#     command=\"python training_script_with_argparse.py --data Social_Network_Ads --test_train_ratio 0.2 --estimator random_forest --registered_model_name my_registered_model\",\n",
        "#     environment=\"azureml:my-custom-environment:1\",  # Predefined environment or use your own\n",
        "#     compute=\"<your-compute-cluster>\",  # Cluster for execution\n",
        "#     experiment_name=\"train_with_argparse\",\n",
        "# )\n",
        "\n",
        "###defining the arguments by dictionary\n",
        "\n",
        "input_params = {\n",
        "    \"data\": \"Social_Network_Ads\",\n",
        "    \"test_train_ratio\": 0.2,\n",
        "    \"estimator\": \"random_forest\",\n",
        "    \"registered_model_name\": \"Social_Media_Random_Forest_Model\",\n",
        "}\n",
        "\n",
        "arguments = \" \".join([f\"--{key} {value}\" for key, value in input_params.items()])\n",
        "\n",
        "job = command(\n",
        "    code=\"../src/\",  # Path to the directory containing the script\n",
        "    command=f\"python main.py {arguments}\",\n",
        "    environment=\"sklearn-env@latest\",  # Predefined environment or use your own\n",
        "    experiment_name=\"Social_Media_exp\",\n",
        "    display_name='Social_mdeia_Ads_classification',\n",
        ")\n",
        "\n",
        "ml_client.jobs.create_or_update(job)"
      ],
      "outputs": [
        {
          "output_type": "stream",
          "name": "stderr",
          "text": "Class AutoDeleteSettingSchema: This is an experimental class, and may change at any time. Please see https://aka.ms/azuremlexperimental for more information.\nClass AutoDeleteConditionSchema: This is an experimental class, and may change at any time. Please see https://aka.ms/azuremlexperimental for more information.\nClass BaseAutoDeleteSettingSchema: This is an experimental class, and may change at any time. Please see https://aka.ms/azuremlexperimental for more information.\nClass IntellectualPropertySchema: This is an experimental class, and may change at any time. Please see https://aka.ms/azuremlexperimental for more information.\nClass ProtectionLevelSchema: This is an experimental class, and may change at any time. Please see https://aka.ms/azuremlexperimental for more information.\nClass BaseIntellectualPropertySchema: This is an experimental class, and may change at any time. Please see https://aka.ms/azuremlexperimental for more information.\n\u001b[32mUploading src (0.0 MBs): 100%|██████████| 4161/4161 [00:00<00:00, 61504.87it/s]\n\u001b[39m\n\n"
        },
        {
          "output_type": "execute_result",
          "execution_count": 14,
          "data": {
            "text/plain": "Command({'parameters': {}, 'init': False, 'name': 'great_shampoo_br0ktrl5n2', 'type': 'command', 'status': 'Starting', 'log_files': None, 'description': None, 'tags': {}, 'properties': {'_azureml.ComputeTargetType': 'amlctrain', '_azureml.ClusterName': None, 'ContentSnapshotId': 'd30df9ac-54a6-4b80-b603-8b3f362dd283'}, 'print_as_yaml': False, 'id': '/subscriptions/73f10b45-ec04-427e-a5d6-42ed4e79c537/resourceGroups/MLRG01/providers/Microsoft.MachineLearningServices/workspaces/AzureMLWS01/jobs/great_shampoo_br0ktrl5n2', 'Resource__source_path': '', 'base_path': '/mnt/batch/tasks/shared/LS_root/mounts/clusters/azureml-compute/code/Users/mr.snath88/Notebook', 'creation_context': <azure.ai.ml.entities._system_data.SystemData object at 0x7ff29e4e7e80>, 'serialize': <msrest.serialization.Serializer object at 0x7ff29e344280>, 'allowed_keys': {}, 'key_restriction': False, 'logger': <TraceLogger attr_dict (WARNING)>, 'display_name': 'Social_mdeia_Ads_classification', 'experiment_name': 'Social_Media_exp', 'compute': None, 'services': {'Tracking': {'endpoint': 'azureml://centralindia.api.azureml.ms/mlflow/v1.0/subscriptions/73f10b45-ec04-427e-a5d6-42ed4e79c537/resourceGroups/MLRG01/providers/Microsoft.MachineLearningServices/workspaces/AzureMLWS01?', 'type': 'Tracking'}, 'Studio': {'endpoint': 'https://ml.azure.com/runs/great_shampoo_br0ktrl5n2?wsid=/subscriptions/73f10b45-ec04-427e-a5d6-42ed4e79c537/resourcegroups/MLRG01/workspaces/AzureMLWS01&tid=c9b787f2-9b78-4285-bd4c-89a5d752d44b', 'type': 'Studio'}}, 'comment': None, 'job_inputs': {}, 'job_outputs': {'default': {'type': 'uri_folder', 'path': 'azureml://datastores/workspaceartifactstore/ExperimentRun/dcid.great_shampoo_br0ktrl5n2', 'mode': 'rw_mount'}}, 'inputs': {}, 'outputs': {'default': <azure.ai.ml.entities._job.pipeline._io.base.NodeOutput object at 0x7ff29e3441f0>}, 'component': CommandComponent({'latest_version': None, 'intellectual_property': None, 'auto_increment_version': True, 'source': 'REMOTE.WORKSPACE.JOB', 'is_anonymous': False, 'auto_delete_setting': None, 'name': 'great_shampoo_br0ktrl5n2', 'description': None, 'tags': {}, 'properties': {}, 'print_as_yaml': False, 'id': None, 'Resource__source_path': None, 'base_path': '/mnt/batch/tasks/shared/LS_root/mounts/clusters/azureml-compute/code/Users/mr.snath88/Notebook', 'creation_context': <azure.ai.ml.entities._system_data.SystemData object at 0x7ff29e4e7e80>, 'serialize': <msrest.serialization.Serializer object at 0x7ff29e344520>, 'command': 'python main.py --data Social_Network_Ads --test_train_ratio 0.2 --estimator random_forest --registered_model_name Social_Media_Random_Forest_Model', 'code': '/subscriptions/73f10b45-ec04-427e-a5d6-42ed4e79c537/resourceGroups/MLRG01/providers/Microsoft.MachineLearningServices/workspaces/AzureMLWS01/codes/408d0ba1-e2fc-4bcd-bd6f-60ffd35cd0a7/versions/1', 'environment_variables': {}, 'environment': '/subscriptions/73f10b45-ec04-427e-a5d6-42ed4e79c537/resourceGroups/MLRG01/providers/Microsoft.MachineLearningServices/workspaces/AzureMLWS01/environments/sklearn-env/versions/9', 'distribution': None, 'resources': None, 'queue_settings': None, 'version': None, 'schema': None, 'type': 'command', 'display_name': 'Social_mdeia_Ads_classification', 'is_deterministic': True, 'inputs': {}, 'outputs': {'default': {'type': 'uri_folder', 'path': 'azureml://datastores/workspaceartifactstore/ExperimentRun/dcid.great_shampoo_br0ktrl5n2', 'mode': 'rw_mount'}}, 'yaml_str': None, 'other_parameter': {'status': 'Starting', 'parameters': {}}, 'additional_includes': []}), 'referenced_control_flow_node_instance_id': None, 'kwargs': {'services': {'Tracking': {'endpoint': 'azureml://centralindia.api.azureml.ms/mlflow/v1.0/subscriptions/73f10b45-ec04-427e-a5d6-42ed4e79c537/resourceGroups/MLRG01/providers/Microsoft.MachineLearningServices/workspaces/AzureMLWS01?', 'type': 'Tracking'}, 'Studio': {'endpoint': 'https://ml.azure.com/runs/great_shampoo_br0ktrl5n2?wsid=/subscriptions/73f10b45-ec04-427e-a5d6-42ed4e79c537/resourcegroups/MLRG01/workspaces/AzureMLWS01&tid=c9b787f2-9b78-4285-bd4c-89a5d752d44b', 'type': 'Studio'}}, 'status': 'Starting', 'creation_context': <azure.ai.ml.entities._system_data.SystemData object at 0x7ff29e4e7e80>}, 'instance_id': '13f5b7c7-ed64-4bba-a44d-197ca52ea09a', 'source': 'BUILDER', 'validate_required_input_not_provided': True, 'limits': None, 'identity': None, 'distribution': None, 'environment_variables': {}, 'environment': 'sklearn-env:9', 'resources': {'instance_count': 1, 'shm_size': '2g'}, 'queue_settings': {'job_tier': 'standard'}, 'swept': False})",
            "text/html": "<table style=\"width:100%\"><tr><th>Experiment</th><th>Name</th><th>Type</th><th>Status</th><th>Details Page</th></tr><tr><td>Social_Media_exp</td><td>great_shampoo_br0ktrl5n2</td><td>command</td><td>Starting</td><td><a href=\"https://ml.azure.com/runs/great_shampoo_br0ktrl5n2?wsid=/subscriptions/73f10b45-ec04-427e-a5d6-42ed4e79c537/resourcegroups/MLRG01/workspaces/AzureMLWS01&amp;tid=c9b787f2-9b78-4285-bd4c-89a5d752d44b\" target=\"_blank\" rel=\"noopener\">Link to Azure Machine Learning studio</a></td></tr></table>"
          },
          "metadata": {}
        }
      ],
      "execution_count": 14,
      "metadata": {
        "jupyter": {
          "source_hidden": false,
          "outputs_hidden": false
        },
        "nteract": {
          "transient": {
            "deleting": false
          }
        },
        "gather": {
          "logged": 1737395640217
        }
      }
    },
    {
      "cell_type": "markdown",
      "source": [
        "# 5. Creating the endpoints"
      ],
      "metadata": {
        "nteract": {
          "transient": {
            "deleting": false
          }
        }
      }
    },
    {
      "cell_type": "code",
      "source": [
        "import uuid\n",
        "str(uuid.uuid4())[:8]\n",
        "\n",
        "online_endpoint='Social-Media-'+str(uuid.uuid4())[:8]\n",
        "online_endpoint"
      ],
      "outputs": [
        {
          "output_type": "execute_result",
          "execution_count": 23,
          "data": {
            "text/plain": "'Social-Media-f28d43d8'"
          },
          "metadata": {}
        }
      ],
      "execution_count": 23,
      "metadata": {
        "gather": {
          "logged": 1737397227144
        }
      }
    },
    {
      "cell_type": "code",
      "source": [
        "from azure.ai.ml.entities import ManagedOnlineEndpoint\n",
        "endpoint=ManagedOnlineEndpoint(name=online_endpoint,\n",
        "            description='Social Media App Online Endpoint for real-time inferencing',\n",
        "            auth_mode='key',\n",
        "            tags=\n",
        "            {'training-dataset':'Social media app'}\n",
        "            )"
      ],
      "outputs": [],
      "execution_count": 24,
      "metadata": {
        "jupyter": {
          "source_hidden": false,
          "outputs_hidden": false
        },
        "nteract": {
          "transient": {
            "deleting": false
          }
        },
        "gather": {
          "logged": 1737397292350
        }
      }
    },
    {
      "cell_type": "code",
      "source": [
        "##creating the endpoint\n",
        "ml_client.begin_create_or_update(endpoint).result()"
      ],
      "outputs": [
        {
          "output_type": "execute_result",
          "execution_count": 25,
          "data": {
            "text/plain": "ManagedOnlineEndpoint({'public_network_access': 'Enabled', 'provisioning_state': 'Succeeded', 'scoring_uri': 'https://social-media-f28d43d8.centralindia.inference.ml.azure.com/score', 'openapi_uri': 'https://social-media-f28d43d8.centralindia.inference.ml.azure.com/swagger.json', 'name': 'social-media-f28d43d8', 'description': 'Social Media App Online Endpoint for real-time inferencing', 'tags': {'training-dataset': 'Social media app'}, 'properties': {'createdBy': 'Sayantan Nath', 'createdAt': '2025-01-20T18:21:43.672697+0000', 'lastModifiedAt': '2025-01-20T18:21:43.672697+0000', 'azureml.onlineendpointid': '/subscriptions/73f10b45-ec04-427e-a5d6-42ed4e79c537/resourcegroups/mlrg01/providers/microsoft.machinelearningservices/workspaces/azuremlws01/onlineendpoints/social-media-f28d43d8', 'AzureAsyncOperationUri': 'https://management.azure.com/subscriptions/73f10b45-ec04-427e-a5d6-42ed4e79c537/providers/Microsoft.MachineLearningServices/locations/centralindia/mfeOperationsStatus/oeidp:7cb99af0-6d3f-4547-9600-52f8f0ec9c30:7dc96be9-2119-4f89-b515-646ae2ce8e41?api-version=2022-02-01-preview'}, 'print_as_yaml': False, 'id': '/subscriptions/73f10b45-ec04-427e-a5d6-42ed4e79c537/resourceGroups/MLRG01/providers/Microsoft.MachineLearningServices/workspaces/AzureMLWS01/onlineEndpoints/social-media-f28d43d8', 'Resource__source_path': '', 'base_path': '/mnt/batch/tasks/shared/LS_root/mounts/clusters/azureml-compute/code/Users/mr.snath88/Notebook', 'creation_context': None, 'serialize': <msrest.serialization.Serializer object at 0x7ff297b03760>, 'auth_mode': 'key', 'location': 'centralindia', 'identity': <azure.ai.ml.entities._credentials.IdentityConfiguration object at 0x7ff297b03f10>, 'traffic': {}, 'mirror_traffic': {}, 'kind': 'Managed'})"
          },
          "metadata": {}
        }
      ],
      "execution_count": 25,
      "metadata": {
        "jupyter": {
          "source_hidden": false,
          "outputs_hidden": false
        },
        "nteract": {
          "transient": {
            "deleting": false
          }
        },
        "gather": {
          "logged": 1737397395440
        }
      }
    },
    {
      "cell_type": "markdown",
      "source": [
        "# 6. Deploy model to endpoint"
      ],
      "metadata": {
        "nteract": {
          "transient": {
            "deleting": false
          }
        }
      }
    },
    {
      "cell_type": "code",
      "source": [
        "##get the model\n",
        "model_name='Social_Media_Random_Forest_Model'\n",
        "model=ml_client.models.list(model_name)\n",
        "for m in model:\n",
        "    print(m.name,m.version)\n",
        "\n",
        "model=ml_client.models.get(name=model_name,version='1')"
      ],
      "outputs": [
        {
          "output_type": "stream",
          "name": "stdout",
          "text": "Social_Media_Random_Forest_Model 1\n"
        }
      ],
      "execution_count": 37,
      "metadata": {
        "jupyter": {
          "source_hidden": false,
          "outputs_hidden": false
        },
        "nteract": {
          "transient": {
            "deleting": false
          }
        },
        "gather": {
          "logged": 1737397859796
        }
      }
    },
    {
      "cell_type": "code",
      "source": [
        "##get the environment\n",
        "\n",
        "environment_name = \"sklearn-env\"  # Replace with your environment name\n",
        "environment_version = \"9\"  # Replace with your environment version\n",
        "\n",
        "environment=ml_client.environments.get(name=environment_name, version=environment_version)\n",
        "print(f\"Retrieved environment: {environment.name}, version: {environment.version}\")"
      ],
      "outputs": [
        {
          "output_type": "stream",
          "name": "stdout",
          "text": "Retrieved environment: sklearn-env, version: 9\n"
        }
      ],
      "execution_count": 38,
      "metadata": {
        "jupyter": {
          "source_hidden": false,
          "outputs_hidden": false
        },
        "nteract": {
          "transient": {
            "deleting": false
          }
        },
        "gather": {
          "logged": 1737398354122
        }
      }
    },
    {
      "cell_type": "code",
      "source": [
        "from azure.ai.ml.entities import ManagedOnlineDeployment\n",
        "\n",
        "deployment_name = \"blue\"\n",
        "\n",
        "deployment = ManagedOnlineDeployment(\n",
        "    name=deployment_name,\n",
        "    endpoint_name=online_endpoint,\n",
        "    model=model,  # Replace with your registered model\n",
        "    instance_type=\"Standard_D4as_v4\",  # Choose a VM size\n",
        "    instance_count=1,\n",
        "    environment=environment,  # Replace with your predefined environment\n",
        ")\n",
        "\n",
        "ml_client.begin_create_or_update(deployment).result()"
      ],
      "outputs": [
        {
          "output_type": "stream",
          "name": "stderr",
          "text": "Check: endpoint Social-Media-f28d43d8 exists\n"
        },
        {
          "output_type": "stream",
          "name": "stdout",
          "text": ".............................."
        },
        {
          "output_type": "error",
          "ename": "HttpResponseError",
          "evalue": "(ResourceNotReady) User container has crashed or terminated. Please see troubleshooting guide, available here: https://aka.ms/oe-tsg#error-resourcenotready\nCode: ResourceNotReady\nMessage: User container has crashed or terminated. Please see troubleshooting guide, available here: https://aka.ms/oe-tsg#error-resourcenotready",
          "traceback": [
            "\u001b[0;31m---------------------------------------------------------------------------\u001b[0m",
            "\u001b[0;31mOperationFailed\u001b[0m                           Traceback (most recent call last)",
            "File \u001b[0;32m/anaconda/envs/azureml_py310_sdkv2/lib/python3.10/site-packages/azure/core/polling/base_polling.py:757\u001b[0m, in \u001b[0;36mLROBasePolling.run\u001b[0;34m(self)\u001b[0m\n\u001b[1;32m    756\u001b[0m \u001b[38;5;28;01mtry\u001b[39;00m:\n\u001b[0;32m--> 757\u001b[0m     \u001b[38;5;28;43mself\u001b[39;49m\u001b[38;5;241;43m.\u001b[39;49m\u001b[43m_poll\u001b[49m\u001b[43m(\u001b[49m\u001b[43m)\u001b[49m\n\u001b[1;32m    759\u001b[0m \u001b[38;5;28;01mexcept\u001b[39;00m BadStatus \u001b[38;5;28;01mas\u001b[39;00m err:\n",
            "File \u001b[0;32m/anaconda/envs/azureml_py310_sdkv2/lib/python3.10/site-packages/azure/core/polling/base_polling.py:789\u001b[0m, in \u001b[0;36mLROBasePolling._poll\u001b[0;34m(self)\u001b[0m\n\u001b[1;32m    788\u001b[0m \u001b[38;5;28;01mif\u001b[39;00m _failed(\u001b[38;5;28mself\u001b[39m\u001b[38;5;241m.\u001b[39mstatus()):\n\u001b[0;32m--> 789\u001b[0m     \u001b[38;5;28;01mraise\u001b[39;00m OperationFailed(\u001b[38;5;124m\"\u001b[39m\u001b[38;5;124mOperation failed or canceled\u001b[39m\u001b[38;5;124m\"\u001b[39m)\n\u001b[1;32m    791\u001b[0m final_get_url \u001b[38;5;241m=\u001b[39m \u001b[38;5;28mself\u001b[39m\u001b[38;5;241m.\u001b[39m_operation\u001b[38;5;241m.\u001b[39mget_final_get_url(\u001b[38;5;28mself\u001b[39m\u001b[38;5;241m.\u001b[39m_pipeline_response)\n",
            "\u001b[0;31mOperationFailed\u001b[0m: Operation failed or canceled",
            "\nThe above exception was the direct cause of the following exception:\n",
            "\u001b[0;31mHttpResponseError\u001b[0m                         Traceback (most recent call last)",
            "Cell \u001b[0;32mIn[40], line 14\u001b[0m\n\u001b[1;32m      3\u001b[0m deployment_name \u001b[38;5;241m=\u001b[39m \u001b[38;5;124m\"\u001b[39m\u001b[38;5;124mblue\u001b[39m\u001b[38;5;124m\"\u001b[39m\n\u001b[1;32m      5\u001b[0m deployment \u001b[38;5;241m=\u001b[39m ManagedOnlineDeployment(\n\u001b[1;32m      6\u001b[0m     name\u001b[38;5;241m=\u001b[39mdeployment_name,\n\u001b[1;32m      7\u001b[0m     endpoint_name\u001b[38;5;241m=\u001b[39monline_endpoint,\n\u001b[0;32m   (...)\u001b[0m\n\u001b[1;32m     11\u001b[0m     environment\u001b[38;5;241m=\u001b[39menvironment,  \u001b[38;5;66;03m# Replace with your predefined environment\u001b[39;00m\n\u001b[1;32m     12\u001b[0m )\n\u001b[0;32m---> 14\u001b[0m \u001b[43mml_client\u001b[49m\u001b[38;5;241;43m.\u001b[39;49m\u001b[43mbegin_create_or_update\u001b[49m\u001b[43m(\u001b[49m\u001b[43mdeployment\u001b[49m\u001b[43m)\u001b[49m\u001b[38;5;241;43m.\u001b[39;49m\u001b[43mresult\u001b[49m\u001b[43m(\u001b[49m\u001b[43m)\u001b[49m\n",
            "File \u001b[0;32m/anaconda/envs/azureml_py310_sdkv2/lib/python3.10/site-packages/azure/core/polling/_poller.py:251\u001b[0m, in \u001b[0;36mLROPoller.result\u001b[0;34m(self, timeout)\u001b[0m\n\u001b[1;32m    242\u001b[0m \u001b[38;5;28;01mdef\u001b[39;00m \u001b[38;5;21mresult\u001b[39m(\u001b[38;5;28mself\u001b[39m, timeout: Optional[\u001b[38;5;28mfloat\u001b[39m] \u001b[38;5;241m=\u001b[39m \u001b[38;5;28;01mNone\u001b[39;00m) \u001b[38;5;241m-\u001b[39m\u001b[38;5;241m>\u001b[39m PollingReturnType_co:\n\u001b[1;32m    243\u001b[0m \u001b[38;5;250m    \u001b[39m\u001b[38;5;124;03m\"\"\"Return the result of the long running operation, or\u001b[39;00m\n\u001b[1;32m    244\u001b[0m \u001b[38;5;124;03m    the result available after the specified timeout.\u001b[39;00m\n\u001b[1;32m    245\u001b[0m \n\u001b[0;32m   (...)\u001b[0m\n\u001b[1;32m    249\u001b[0m \u001b[38;5;124;03m    :raises ~azure.core.exceptions.HttpResponseError: Server problem with the query.\u001b[39;00m\n\u001b[1;32m    250\u001b[0m \u001b[38;5;124;03m    \"\"\"\u001b[39;00m\n\u001b[0;32m--> 251\u001b[0m     \u001b[38;5;28;43mself\u001b[39;49m\u001b[38;5;241;43m.\u001b[39;49m\u001b[43mwait\u001b[49m\u001b[43m(\u001b[49m\u001b[43mtimeout\u001b[49m\u001b[43m)\u001b[49m\n\u001b[1;32m    252\u001b[0m     \u001b[38;5;28;01mreturn\u001b[39;00m \u001b[38;5;28mself\u001b[39m\u001b[38;5;241m.\u001b[39m_polling_method\u001b[38;5;241m.\u001b[39mresource()\n",
            "File \u001b[0;32m/anaconda/envs/azureml_py310_sdkv2/lib/python3.10/site-packages/azure/core/tracing/decorator.py:94\u001b[0m, in \u001b[0;36mdistributed_trace.<locals>.decorator.<locals>.wrapper_use_tracer\u001b[0;34m(*args, **kwargs)\u001b[0m\n\u001b[1;32m     92\u001b[0m span_impl_type \u001b[38;5;241m=\u001b[39m settings\u001b[38;5;241m.\u001b[39mtracing_implementation()\n\u001b[1;32m     93\u001b[0m \u001b[38;5;28;01mif\u001b[39;00m span_impl_type \u001b[38;5;129;01mis\u001b[39;00m \u001b[38;5;28;01mNone\u001b[39;00m:\n\u001b[0;32m---> 94\u001b[0m     \u001b[38;5;28;01mreturn\u001b[39;00m \u001b[43mfunc\u001b[49m\u001b[43m(\u001b[49m\u001b[38;5;241;43m*\u001b[39;49m\u001b[43margs\u001b[49m\u001b[43m,\u001b[49m\u001b[43m \u001b[49m\u001b[38;5;241;43m*\u001b[39;49m\u001b[38;5;241;43m*\u001b[39;49m\u001b[43mkwargs\u001b[49m\u001b[43m)\u001b[49m\n\u001b[1;32m     96\u001b[0m \u001b[38;5;66;03m# Merge span is parameter is set, but only if no explicit parent are passed\u001b[39;00m\n\u001b[1;32m     97\u001b[0m \u001b[38;5;28;01mif\u001b[39;00m merge_span \u001b[38;5;129;01mand\u001b[39;00m \u001b[38;5;129;01mnot\u001b[39;00m passed_in_parent:\n",
            "File \u001b[0;32m/anaconda/envs/azureml_py310_sdkv2/lib/python3.10/site-packages/azure/core/polling/_poller.py:270\u001b[0m, in \u001b[0;36mLROPoller.wait\u001b[0;34m(self, timeout)\u001b[0m\n\u001b[1;32m    266\u001b[0m \u001b[38;5;28mself\u001b[39m\u001b[38;5;241m.\u001b[39m_thread\u001b[38;5;241m.\u001b[39mjoin(timeout\u001b[38;5;241m=\u001b[39mtimeout)\n\u001b[1;32m    267\u001b[0m \u001b[38;5;28;01mtry\u001b[39;00m:\n\u001b[1;32m    268\u001b[0m     \u001b[38;5;66;03m# Let's handle possible None in forgiveness here\u001b[39;00m\n\u001b[1;32m    269\u001b[0m     \u001b[38;5;66;03m# https://github.com/python/mypy/issues/8165\u001b[39;00m\n\u001b[0;32m--> 270\u001b[0m     \u001b[38;5;28;01mraise\u001b[39;00m \u001b[38;5;28mself\u001b[39m\u001b[38;5;241m.\u001b[39m_exception  \u001b[38;5;66;03m# type: ignore\u001b[39;00m\n\u001b[1;32m    271\u001b[0m \u001b[38;5;28;01mexcept\u001b[39;00m \u001b[38;5;167;01mTypeError\u001b[39;00m:  \u001b[38;5;66;03m# Was None\u001b[39;00m\n\u001b[1;32m    272\u001b[0m     \u001b[38;5;28;01mpass\u001b[39;00m\n",
            "File \u001b[0;32m/anaconda/envs/azureml_py310_sdkv2/lib/python3.10/site-packages/azure/core/polling/_poller.py:185\u001b[0m, in \u001b[0;36mLROPoller._start\u001b[0;34m(self)\u001b[0m\n\u001b[1;32m    181\u001b[0m \u001b[38;5;250m\u001b[39m\u001b[38;5;124;03m\"\"\"Start the long running operation.\u001b[39;00m\n\u001b[1;32m    182\u001b[0m \u001b[38;5;124;03mOn completion, runs any callbacks.\u001b[39;00m\n\u001b[1;32m    183\u001b[0m \u001b[38;5;124;03m\"\"\"\u001b[39;00m\n\u001b[1;32m    184\u001b[0m \u001b[38;5;28;01mtry\u001b[39;00m:\n\u001b[0;32m--> 185\u001b[0m     \u001b[38;5;28;43mself\u001b[39;49m\u001b[38;5;241;43m.\u001b[39;49m\u001b[43m_polling_method\u001b[49m\u001b[38;5;241;43m.\u001b[39;49m\u001b[43mrun\u001b[49m\u001b[43m(\u001b[49m\u001b[43m)\u001b[49m\n\u001b[1;32m    186\u001b[0m \u001b[38;5;28;01mexcept\u001b[39;00m AzureError \u001b[38;5;28;01mas\u001b[39;00m error:\n\u001b[1;32m    187\u001b[0m     \u001b[38;5;28;01mif\u001b[39;00m \u001b[38;5;129;01mnot\u001b[39;00m error\u001b[38;5;241m.\u001b[39mcontinuation_token:\n",
            "File \u001b[0;32m/anaconda/envs/azureml_py310_sdkv2/lib/python3.10/site-packages/azure/core/polling/base_polling.py:772\u001b[0m, in \u001b[0;36mLROBasePolling.run\u001b[0;34m(self)\u001b[0m\n\u001b[1;32m    765\u001b[0m     \u001b[38;5;28;01mraise\u001b[39;00m HttpResponseError(\n\u001b[1;32m    766\u001b[0m         response\u001b[38;5;241m=\u001b[39m\u001b[38;5;28mself\u001b[39m\u001b[38;5;241m.\u001b[39m_pipeline_response\u001b[38;5;241m.\u001b[39mhttp_response,\n\u001b[1;32m    767\u001b[0m         message\u001b[38;5;241m=\u001b[39m\u001b[38;5;28mstr\u001b[39m(err),\n\u001b[1;32m    768\u001b[0m         error\u001b[38;5;241m=\u001b[39merr,\n\u001b[1;32m    769\u001b[0m     ) \u001b[38;5;28;01mfrom\u001b[39;00m \u001b[38;5;21;01merr\u001b[39;00m\n\u001b[1;32m    771\u001b[0m \u001b[38;5;28;01mexcept\u001b[39;00m OperationFailed \u001b[38;5;28;01mas\u001b[39;00m err:\n\u001b[0;32m--> 772\u001b[0m     \u001b[38;5;28;01mraise\u001b[39;00m HttpResponseError(response\u001b[38;5;241m=\u001b[39m\u001b[38;5;28mself\u001b[39m\u001b[38;5;241m.\u001b[39m_pipeline_response\u001b[38;5;241m.\u001b[39mhttp_response, error\u001b[38;5;241m=\u001b[39merr) \u001b[38;5;28;01mfrom\u001b[39;00m \u001b[38;5;21;01merr\u001b[39;00m\n",
            "\u001b[0;31mHttpResponseError\u001b[0m: (ResourceNotReady) User container has crashed or terminated. Please see troubleshooting guide, available here: https://aka.ms/oe-tsg#error-resourcenotready\nCode: ResourceNotReady\nMessage: User container has crashed or terminated. Please see troubleshooting guide, available here: https://aka.ms/oe-tsg#error-resourcenotready"
          ]
        }
      ],
      "execution_count": 40,
      "metadata": {
        "jupyter": {
          "source_hidden": false,
          "outputs_hidden": false
        },
        "nteract": {
          "transient": {
            "deleting": false
          }
        },
        "gather": {
          "logged": 1737399085525
        }
      }
    },
    {
      "cell_type": "code",
      "source": [
        "# Set Default Deployment\n",
        "# Once the deployment is complete, make it the default deployment for the endpoint:\n",
        "endpoint.traffic = {deployment_name: 100}\n",
        "ml_client.begin_create_or_update(endpoint).result()\n"
      ],
      "outputs": [],
      "execution_count": null,
      "metadata": {
        "jupyter": {
          "source_hidden": false,
          "outputs_hidden": false
        },
        "nteract": {
          "transient": {
            "deleting": false
          }
        }
      }
    },
    {
      "cell_type": "code",
      "source": [
        "# Test the Endpoint\n",
        "# After deploying your model, you can send test requests to verify it works.\n",
        "endpoint = ml_client.online_endpoints.get(online_endpoint)  ##endpoint name\n",
        "print(f\"Endpoint URL: {endpoint.scoring_uri}\")\n",
        "print(f\"API Key: {endpoint.keys.primary_key}\")\n"
      ],
      "outputs": [],
      "execution_count": null,
      "metadata": {
        "jupyter": {
          "source_hidden": false,
          "outputs_hidden": false
        },
        "nteract": {
          "transient": {
            "deleting": false
          }
        }
      }
    }
  ],
  "metadata": {
    "kernelspec": {
      "name": "python310-sdkv2",
      "language": "python",
      "display_name": "Python 3.10 - SDK v2"
    },
    "language_info": {
      "name": "python",
      "version": "3.10.14",
      "mimetype": "text/x-python",
      "codemirror_mode": {
        "name": "ipython",
        "version": 3
      },
      "pygments_lexer": "ipython3",
      "nbconvert_exporter": "python",
      "file_extension": ".py"
    },
    "microsoft": {
      "ms_spell_check": {
        "ms_spell_check_language": "en"
      },
      "host": {
        "AzureML": {
          "notebookHasBeenCompleted": true
        }
      }
    },
    "kernel_info": {
      "name": "python310-sdkv2"
    },
    "nteract": {
      "version": "nteract-front-end@1.0.0"
    }
  },
  "nbformat": 4,
  "nbformat_minor": 2
}