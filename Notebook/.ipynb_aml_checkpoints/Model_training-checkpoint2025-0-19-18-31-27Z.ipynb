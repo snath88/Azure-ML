{
  "cells": [
    {
      "cell_type": "code",
      "source": [
        "from azure.ai.ml import MLClient\n",
        "from azure.identity import DefaultAzureCredential\n",
        "import pandas as pd"
      ],
      "outputs": [],
      "execution_count": 3,
      "metadata": {
        "gather": {
          "logged": 1737245354728
        }
      }
    },
    {
      "cell_type": "code",
      "source": [
        "ml_client = MLClient.from_config(credential=DefaultAzureCredential())\n",
        "data_asset=ml_client.data.get(\"Social_Network_Ads\", version=\"1\")\n",
        "data_asset.path"
      ],
      "outputs": [
        {
          "output_type": "stream",
          "name": "stderr",
          "text": "Found the config file in: /config.json\n"
        },
        {
          "output_type": "execute_result",
          "execution_count": 2,
          "data": {
            "text/plain": "'azureml://subscriptions/73f10b45-ec04-427e-a5d6-42ed4e79c537/resourcegroups/mlrg01/workspaces/azuremlws01/datastores/aazureml_data_01/paths/Social Network/Social_Network_Ads.csv/'"
          },
          "metadata": {}
        }
      ],
      "execution_count": 2,
      "metadata": {
        "jupyter": {
          "source_hidden": false,
          "outputs_hidden": false
        },
        "nteract": {
          "transient": {
            "deleting": false
          }
        },
        "gather": {
          "logged": 1737245324084
        }
      }
    },
    {
      "cell_type": "code",
      "source": [
        "df=pd.read_csv(data_asset.path)\n",
        "df.head(5)"
      ],
      "outputs": [
        {
          "output_type": "execute_result",
          "execution_count": 4,
          "data": {
            "text/plain": "   Age  EstimatedSalary  Purchased\n0   19            19000          0\n1   35            20000          0\n2   26            43000          0\n3   27            57000          0\n4   19            76000          0",
            "text/html": "<div>\n<style scoped>\n    .dataframe tbody tr th:only-of-type {\n        vertical-align: middle;\n    }\n\n    .dataframe tbody tr th {\n        vertical-align: top;\n    }\n\n    .dataframe thead th {\n        text-align: right;\n    }\n</style>\n<table border=\"1\" class=\"dataframe\">\n  <thead>\n    <tr style=\"text-align: right;\">\n      <th></th>\n      <th>Age</th>\n      <th>EstimatedSalary</th>\n      <th>Purchased</th>\n    </tr>\n  </thead>\n  <tbody>\n    <tr>\n      <th>0</th>\n      <td>19</td>\n      <td>19000</td>\n      <td>0</td>\n    </tr>\n    <tr>\n      <th>1</th>\n      <td>35</td>\n      <td>20000</td>\n      <td>0</td>\n    </tr>\n    <tr>\n      <th>2</th>\n      <td>26</td>\n      <td>43000</td>\n      <td>0</td>\n    </tr>\n    <tr>\n      <th>3</th>\n      <td>27</td>\n      <td>57000</td>\n      <td>0</td>\n    </tr>\n    <tr>\n      <th>4</th>\n      <td>19</td>\n      <td>76000</td>\n      <td>0</td>\n    </tr>\n  </tbody>\n</table>\n</div>"
          },
          "metadata": {}
        }
      ],
      "execution_count": 4,
      "metadata": {
        "jupyter": {
          "source_hidden": false,
          "outputs_hidden": false
        },
        "nteract": {
          "transient": {
            "deleting": false
          }
        },
        "gather": {
          "logged": 1737245381208
        }
      }
    },
    {
      "cell_type": "code",
      "source": [
        "import mlflow\n",
        "import mlflow.sklearn\n",
        "from sklearn.ensemble import RandomForestClassifier\n",
        "from sklearn.model_selection import train_test_split\n",
        "from sklearn.preprocessing import StandardScaler"
      ],
      "outputs": [],
      "execution_count": 9,
      "metadata": {
        "jupyter": {
          "source_hidden": false,
          "outputs_hidden": false
        },
        "nteract": {
          "transient": {
            "deleting": false
          }
        },
        "gather": {
          "logged": 1737246885837
        }
      }
    },
    {
      "cell_type": "code",
      "source": [
        "X=df.drop('Purchased',axis=1)\n",
        "y=df['Purchased']\n",
        "X_train, X_test, y_train, y_test = train_test_split(X, y, test_size=0.2, random_state=42)"
      ],
      "outputs": [],
      "execution_count": 7,
      "metadata": {
        "jupyter": {
          "source_hidden": false,
          "outputs_hidden": false
        },
        "nteract": {
          "transient": {
            "deleting": false
          }
        },
        "gather": {
          "logged": 1737246462470
        }
      }
    },
    {
      "cell_type": "code",
      "source": [
        "scaler=StandardScaler()\n",
        "X_train=scaler.fit_transform(X_train)\n",
        "X_test=scaler.transform(X_test)"
      ],
      "outputs": [],
      "execution_count": 10,
      "metadata": {
        "jupyter": {
          "source_hidden": false,
          "outputs_hidden": false
        },
        "nteract": {
          "transient": {
            "deleting": false
          }
        },
        "gather": {
          "logged": 1737246937976
        }
      }
    },
    {
      "cell_type": "markdown",
      "source": [
        "**Set the experiment and Enable autologging**"
      ],
      "metadata": {
        "nteract": {
          "transient": {
            "deleting": false
          }
        }
      }
    },
    {
      "cell_type": "code",
      "source": [
        "mlflow.set_experiment('Model Run from Notebook')\n",
        "mlflow.sklearn.autolog()"
      ],
      "outputs": [
        {
          "output_type": "stream",
          "name": "stderr",
          "text": "2025/01/19 00:37:41 WARNING mlflow.utils.autologging_utils: MLflow sklearn autologging is known to be compatible with 0.24.1 <= scikit-learn <= 1.5.1, but the installed version is 1.5.2. If you encounter errors during autologging, try upgrading / downgrading scikit-learn to a compatible version, or try upgrading MLflow.\n"
        }
      ],
      "execution_count": 11,
      "metadata": {
        "jupyter": {
          "source_hidden": false,
          "outputs_hidden": false
        },
        "nteract": {
          "transient": {
            "deleting": false
          }
        },
        "gather": {
          "logged": 1737247061822
        }
      }
    },
    {
      "cell_type": "code",
      "source": [
        "mlflow.start_run(run_name='Random_Forest')\n",
        "model=RandomForestClassifier(n_estimators=100)\n",
        "model.fit(X_train,y_train)\n",
        "prediction=model.predict(X_test)\n",
        "mlflow.end_run()"
      ],
      "outputs": [
        {
          "output_type": "stream",
          "name": "stderr",
          "text": "2025/01/19 00:46:23 WARNING mlflow.sklearn: Failed to log training dataset information to MLflow Tracking. Reason: 'Series' object has no attribute 'flatten'\n2025/01/19 00:46:30 INFO mlflow.tracking._tracking_service.client: 🏃 View run Random_Forest at: https://centralindia.api.azureml.ms/mlflow/v2.0/subscriptions/73f10b45-ec04-427e-a5d6-42ed4e79c537/resourceGroups/mlrg01/providers/Microsoft.MachineLearningServices/workspaces/azuremlws01/#/experiments/f1328f56-c57d-4fb1-8908-f6348b690193/runs/9c21282c-915d-469a-ad5e-df7e8a8c0c28.\n2025/01/19 00:46:30 INFO mlflow.tracking._tracking_service.client: 🧪 View experiment at: https://centralindia.api.azureml.ms/mlflow/v2.0/subscriptions/73f10b45-ec04-427e-a5d6-42ed4e79c537/resourceGroups/mlrg01/providers/Microsoft.MachineLearningServices/workspaces/azuremlws01/#/experiments/f1328f56-c57d-4fb1-8908-f6348b690193.\n"
        }
      ],
      "execution_count": 14,
      "metadata": {
        "jupyter": {
          "source_hidden": false,
          "outputs_hidden": false
        },
        "nteract": {
          "transient": {
            "deleting": false
          }
        },
        "gather": {
          "logged": 1737247591532
        }
      }
    },
    {
      "cell_type": "code",
      "source": [
        "from sklearn.svm import SVC"
      ],
      "outputs": [],
      "execution_count": 16,
      "metadata": {
        "jupyter": {
          "source_hidden": false,
          "outputs_hidden": false
        },
        "nteract": {
          "transient": {
            "deleting": false
          }
        },
        "gather": {
          "logged": 1737247771670
        }
      }
    },
    {
      "cell_type": "code",
      "source": [
        "mlflow.start_run(run_name='SVM_Classifier')\n",
        "model1=SVC(kernel='rbf')\n",
        "model1.fit(X_train,y_train)\n",
        "prediction=model.predict(X_test)\n",
        "mlflow.end_run()"
      ],
      "outputs": [
        {
          "output_type": "stream",
          "name": "stderr",
          "text": "2025/01/19 00:53:15 WARNING mlflow.sklearn: Failed to log training dataset information to MLflow Tracking. Reason: 'Series' object has no attribute 'flatten'\n2025/01/19 00:53:24 INFO mlflow.tracking._tracking_service.client: 🏃 View run SVM_Classifier at: https://centralindia.api.azureml.ms/mlflow/v2.0/subscriptions/73f10b45-ec04-427e-a5d6-42ed4e79c537/resourceGroups/mlrg01/providers/Microsoft.MachineLearningServices/workspaces/azuremlws01/#/experiments/f1328f56-c57d-4fb1-8908-f6348b690193/runs/0b62c88f-676b-42fc-8434-c4918047c689.\n2025/01/19 00:53:24 INFO mlflow.tracking._tracking_service.client: 🧪 View experiment at: https://centralindia.api.azureml.ms/mlflow/v2.0/subscriptions/73f10b45-ec04-427e-a5d6-42ed4e79c537/resourceGroups/mlrg01/providers/Microsoft.MachineLearningServices/workspaces/azuremlws01/#/experiments/f1328f56-c57d-4fb1-8908-f6348b690193.\n"
        }
      ],
      "execution_count": 17,
      "metadata": {
        "jupyter": {
          "source_hidden": false,
          "outputs_hidden": false
        },
        "nteract": {
          "transient": {
            "deleting": false
          }
        },
        "gather": {
          "logged": 1737248006240
        }
      }
    }
  ],
  "metadata": {
    "kernelspec": {
      "name": "python310-sdkv2",
      "language": "python",
      "display_name": "Python 3.10 - SDK v2"
    },
    "language_info": {
      "name": "python",
      "version": "3.10.14",
      "mimetype": "text/x-python",
      "codemirror_mode": {
        "name": "ipython",
        "version": 3
      },
      "pygments_lexer": "ipython3",
      "nbconvert_exporter": "python",
      "file_extension": ".py"
    },
    "microsoft": {
      "ms_spell_check": {
        "ms_spell_check_language": "en"
      }
    },
    "kernel_info": {
      "name": "python310-sdkv2"
    },
    "nteract": {
      "version": "nteract-front-end@1.0.0"
    }
  },
  "nbformat": 4,
  "nbformat_minor": 2
}