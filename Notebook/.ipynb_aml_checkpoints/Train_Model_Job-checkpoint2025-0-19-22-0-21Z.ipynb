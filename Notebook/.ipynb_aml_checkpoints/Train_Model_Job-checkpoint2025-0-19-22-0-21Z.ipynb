{
  "cells": [
    {
      "cell_type": "markdown",
      "source": [
        "# 1. Use a Command Job to create a Machine Learning Model"
      ],
      "metadata": {
        "nteract": {
          "transient": {
            "deleting": false
          }
        }
      }
    },
    {
      "cell_type": "markdown",
      "source": [
        "A Command Job in Azure Machine Learning (Azure ML) is a job type that allows you to execute a Python script, shell command, or any executable in a containerized environment. It is often used to run machine learning training scripts, data preprocessing steps, or custom tasks in Azure ML."
      ],
      "metadata": {
        "nteract": {
          "transient": {
            "deleting": false
          }
        }
      }
    },
    {
      "cell_type": "markdown",
      "source": [
        "For command job the below arguments are required\n",
        "- code: Path to the directory containing the script or code files.\n",
        "- command: The command to execute, often invoking the script (e.g., python train.py).\n",
        "- inputs: Dictionary of inputs passed to the script (e.g., data paths, hyperparameters).\n",
        "- outputs: Dictionary of outputs produced by the script (e.g., model files).\n",
        "- environment: The runtime environment, including dependencies (e.g., Python packages, Docker image).\n",
        "- compute: The compute target to use (e.g., a virtual machine or compute cluster in Azure ML).\n",
        "- description: A brief description of the job's purpose.\n"
      ],
      "metadata": {
        "nteract": {
          "transient": {
            "deleting": false
          }
        }
      }
    },
    {
      "cell_type": "code",
      "source": [
        "## Create a handle to Workspace\n",
        "from azure.ai.ml import MLClient\n",
        "from azure.identity import DefaultAzureCredential\n",
        "subscription='73f10b45-ec04-427e-a5d6-42ed4e79c537'\n",
        "resourcegroup='MLRG01'\n",
        "workspace='AzureMLWS01'\n",
        "\n",
        "ml_client=MLClient(credential=DefaultAzureCredential(),\n",
        "subscription_id=subscription,\n",
        "resource_group_name=resourcegroup,\n",
        "workspace_name=workspace)"
      ],
      "outputs": [],
      "execution_count": 16,
      "metadata": {
        "jupyter": {
          "source_hidden": false,
          "outputs_hidden": false
        },
        "nteract": {
          "transient": {
            "deleting": false
          }
        },
        "gather": {
          "logged": 1737313922657
        }
      }
    },
    {
      "cell_type": "code",
      "source": [
        "ml_client.workspace_name"
      ],
      "outputs": [
        {
          "output_type": "execute_result",
          "execution_count": 3,
          "data": {
            "text/plain": "'AzureMLWS01'"
          },
          "metadata": {}
        }
      ],
      "execution_count": 3,
      "metadata": {
        "jupyter": {
          "source_hidden": false,
          "outputs_hidden": false
        },
        "nteract": {
          "transient": {
            "deleting": false
          }
        },
        "gather": {
          "logged": 1737304516606
        }
      }
    },
    {
      "cell_type": "code",
      "source": [
        "ws=ml_client.workspaces.get(workspace)\n",
        "ws.name, ws.resource_group"
      ],
      "outputs": [
        {
          "output_type": "execute_result",
          "execution_count": 4,
          "data": {
            "text/plain": "('AzureMLWS01', 'MLRG01')"
          },
          "metadata": {}
        }
      ],
      "execution_count": 4,
      "metadata": {
        "jupyter": {
          "source_hidden": false,
          "outputs_hidden": false
        },
        "nteract": {
          "transient": {
            "deleting": false
          }
        },
        "gather": {
          "logged": 1737304519275
        }
      }
    },
    {
      "cell_type": "markdown",
      "source": [
        "# 2. Create the job Env"
      ],
      "metadata": {
        "nteract": {
          "transient": {
            "deleting": false
          }
        }
      }
    },
    {
      "cell_type": "code",
      "source": [
        "import os\n",
        "dependecies_dir='../dependencies'\n",
        "os.makedirs(dependecies_dir,exist_ok=True)\n",
        "#Users/mr.snath88/dependencies\n",
        "## then upload the conda.yaml file"
      ],
      "outputs": [],
      "execution_count": 8,
      "metadata": {
        "jupyter": {
          "source_hidden": false,
          "outputs_hidden": false
        },
        "nteract": {
          "transient": {
            "deleting": false
          }
        },
        "gather": {
          "logged": 1737304980888
        }
      }
    },
    {
      "cell_type": "code",
      "source": [
        "from azure.ai.ml.entities import Environment\n",
        "\n",
        "custom_job_env = Environment(\n",
        "    name=\"sklearn-env\",\n",
        "    description=\"Environment for sklearn-based training\",\n",
        "    conda_file=\"../dependencies/conda.yaml\",\n",
        "    image=\"mcr.microsoft.com/azureml/openmpi4.1.0-ubuntu20.04:latest\",\n",
        ")\n",
        "\n",
        "custom_job_env=ml_client.environments.create_or_update(custom_job_env)\n",
        "\n",
        "print(f'Env: {custom_job_env.name} created and the version is {custom_job_env.version}')"
      ],
      "outputs": [
        {
          "output_type": "stream",
          "name": "stdout",
          "text": "Env: sklearn-env created and the version is 2\n"
        }
      ],
      "execution_count": 18,
      "metadata": {
        "jupyter": {
          "source_hidden": false,
          "outputs_hidden": false
        },
        "nteract": {
          "transient": {
            "deleting": false
          }
        },
        "gather": {
          "logged": 1737316594087
        }
      }
    },
    {
      "cell_type": "markdown",
      "source": [
        "# 3. Create Training Script"
      ],
      "metadata": {
        "nteract": {
          "transient": {
            "deleting": false
          }
        }
      }
    },
    {
      "cell_type": "code",
      "source": [
        "## create directory\n",
        "script_path='../src'\n",
        "os.makedirs(script_path,exist_ok=True)"
      ],
      "outputs": [],
      "execution_count": 14,
      "metadata": {
        "jupyter": {
          "source_hidden": false,
          "outputs_hidden": false
        },
        "nteract": {
          "transient": {
            "deleting": false
          }
        },
        "gather": {
          "logged": 1737308735685
        }
      }
    },
    {
      "cell_type": "markdown",
      "source": [
        "# 4. Configure the command"
      ],
      "metadata": {
        "nteract": {
          "transient": {
            "deleting": false
          }
        }
      }
    },
    {
      "cell_type": "code",
      "source": [
        "from azure.ai.ml import command\n",
        "# Define the command job\n",
        "# job = command(\n",
        "#     code=\"./\",  # Path to the directory containing the script\n",
        "#     command=\"python training_script_with_argparse.py --data Social_Network_Ads --test_train_ratio 0.2 --estimator random_forest --registered_model_name my_registered_model\",\n",
        "#     environment=\"azureml:my-custom-environment:1\",  # Predefined environment or use your own\n",
        "#     compute=\"<your-compute-cluster>\",  # Cluster for execution\n",
        "#     experiment_name=\"train_with_argparse\",\n",
        "# )\n",
        "\n",
        "###defining the arguments by dictionary\n",
        "\n",
        "input_params = {\n",
        "    \"data\": \"Social_Network_Ads\",\n",
        "    \"test_train_ratio\": 0.2,\n",
        "    \"estimator\": \"random_forest\",\n",
        "    \"registered_model_name\": \"Social_mdedia_model\",\n",
        "}\n",
        "\n",
        "arguments = \" \".join([f\"--{key} {value}\" for key, value in input_params.items()])\n",
        "\n",
        "job = command(\n",
        "    code=\"../src/\",  # Path to the directory containing the script\n",
        "    command=f\"python main.py {arguments}\",\n",
        "    environment=\"sklearn-env@latest\",  # Predefined environment or use your own\n",
        "    experiment_name=\"Social_Media_exp\",\n",
        "    display_name='Social_mdeia_Ads_classification',\n",
        ")\n",
        "\n",
        "ml_client.jobs.create_or_update(job)"
      ],
      "outputs": [
        {
          "output_type": "stream",
          "name": "stderr",
          "text": "\r\u001b[32mUploading src (0.01 MBs):   0%|          | 0/8233 [00:00<?, ?it/s]\r\u001b[32mUploading src (0.01 MBs): 100%|██████████| 8233/8233 [00:00<00:00, 103565.70it/s]\n\u001b[39m\n\n"
        },
        {
          "output_type": "execute_result",
          "execution_count": 21,
          "data": {
            "text/plain": "Command({'parameters': {}, 'init': False, 'name': 'bright_diamond_4w4dnn89fn', 'type': 'command', 'status': 'Starting', 'log_files': None, 'description': None, 'tags': {}, 'properties': {'_azureml.ComputeTargetType': 'amlctrain', '_azureml.ClusterName': None, 'ContentSnapshotId': '4e39b0fb-eb70-4693-b8e8-59e2711967db'}, 'print_as_yaml': False, 'id': '/subscriptions/73f10b45-ec04-427e-a5d6-42ed4e79c537/resourceGroups/MLRG01/providers/Microsoft.MachineLearningServices/workspaces/AzureMLWS01/jobs/bright_diamond_4w4dnn89fn', 'Resource__source_path': '', 'base_path': '/mnt/batch/tasks/shared/LS_root/mounts/clusters/compute-azure/code/Users/mr.snath88/Notebook', 'creation_context': <azure.ai.ml.entities._system_data.SystemData object at 0x7f71fc212e60>, 'serialize': <msrest.serialization.Serializer object at 0x7f71fc211b40>, 'allowed_keys': {}, 'key_restriction': False, 'logger': <TraceLogger attr_dict (WARNING)>, 'display_name': 'Social_mdeia_Ads_classification', 'experiment_name': 'Social_Media_exp', 'compute': None, 'services': {'Tracking': {'endpoint': 'azureml://centralindia.api.azureml.ms/mlflow/v1.0/subscriptions/73f10b45-ec04-427e-a5d6-42ed4e79c537/resourceGroups/MLRG01/providers/Microsoft.MachineLearningServices/workspaces/AzureMLWS01?', 'type': 'Tracking'}, 'Studio': {'endpoint': 'https://ml.azure.com/runs/bright_diamond_4w4dnn89fn?wsid=/subscriptions/73f10b45-ec04-427e-a5d6-42ed4e79c537/resourcegroups/MLRG01/workspaces/AzureMLWS01&tid=c9b787f2-9b78-4285-bd4c-89a5d752d44b', 'type': 'Studio'}}, 'comment': None, 'job_inputs': {}, 'job_outputs': {'default': {'type': 'uri_folder', 'path': 'azureml://datastores/workspaceartifactstore/ExperimentRun/dcid.bright_diamond_4w4dnn89fn', 'mode': 'rw_mount'}}, 'inputs': {}, 'outputs': {'default': <azure.ai.ml.entities._job.pipeline._io.base.NodeOutput object at 0x7f71fc211ff0>}, 'component': CommandComponent({'latest_version': None, 'intellectual_property': None, 'auto_increment_version': True, 'source': 'REMOTE.WORKSPACE.JOB', 'is_anonymous': False, 'auto_delete_setting': None, 'name': 'bright_diamond_4w4dnn89fn', 'description': None, 'tags': {}, 'properties': {}, 'print_as_yaml': False, 'id': None, 'Resource__source_path': None, 'base_path': '/mnt/batch/tasks/shared/LS_root/mounts/clusters/compute-azure/code/Users/mr.snath88/Notebook', 'creation_context': <azure.ai.ml.entities._system_data.SystemData object at 0x7f71fc212e60>, 'serialize': <msrest.serialization.Serializer object at 0x7f71fc2112d0>, 'command': 'python main.py --data Social_Network_Ads --test_train_ratio 0.2 --estimator random_forest --registered_model_name Social_mdedia_model', 'code': '/subscriptions/73f10b45-ec04-427e-a5d6-42ed4e79c537/resourceGroups/MLRG01/providers/Microsoft.MachineLearningServices/workspaces/AzureMLWS01/codes/2e3c2711-938f-4d46-bf23-d3357536da52/versions/1', 'environment_variables': {}, 'environment': '/subscriptions/73f10b45-ec04-427e-a5d6-42ed4e79c537/resourceGroups/MLRG01/providers/Microsoft.MachineLearningServices/workspaces/AzureMLWS01/environments/sklearn-env/versions/2', 'distribution': None, 'resources': None, 'queue_settings': None, 'version': None, 'schema': None, 'type': 'command', 'display_name': 'Social_mdeia_Ads_classification', 'is_deterministic': True, 'inputs': {}, 'outputs': {'default': {'type': 'uri_folder', 'path': 'azureml://datastores/workspaceartifactstore/ExperimentRun/dcid.bright_diamond_4w4dnn89fn', 'mode': 'rw_mount'}}, 'yaml_str': None, 'other_parameter': {'status': 'Starting', 'parameters': {}}, 'additional_includes': []}), 'referenced_control_flow_node_instance_id': None, 'kwargs': {'services': {'Tracking': {'endpoint': 'azureml://centralindia.api.azureml.ms/mlflow/v1.0/subscriptions/73f10b45-ec04-427e-a5d6-42ed4e79c537/resourceGroups/MLRG01/providers/Microsoft.MachineLearningServices/workspaces/AzureMLWS01?', 'type': 'Tracking'}, 'Studio': {'endpoint': 'https://ml.azure.com/runs/bright_diamond_4w4dnn89fn?wsid=/subscriptions/73f10b45-ec04-427e-a5d6-42ed4e79c537/resourcegroups/MLRG01/workspaces/AzureMLWS01&tid=c9b787f2-9b78-4285-bd4c-89a5d752d44b', 'type': 'Studio'}}, 'status': 'Starting', 'creation_context': <azure.ai.ml.entities._system_data.SystemData object at 0x7f71fc212e60>}, 'instance_id': '179c9c5b-e000-4ece-b79d-02fe553e2df3', 'source': 'BUILDER', 'validate_required_input_not_provided': True, 'limits': None, 'identity': None, 'distribution': None, 'environment_variables': {}, 'environment': 'sklearn-env:2', 'resources': {'instance_count': 1, 'shm_size': '2g'}, 'queue_settings': {'job_tier': 'standard'}, 'swept': False})",
            "text/html": "<table style=\"width:100%\"><tr><th>Experiment</th><th>Name</th><th>Type</th><th>Status</th><th>Details Page</th></tr><tr><td>Social_Media_exp</td><td>bright_diamond_4w4dnn89fn</td><td>command</td><td>Starting</td><td><a href=\"https://ml.azure.com/runs/bright_diamond_4w4dnn89fn?wsid=/subscriptions/73f10b45-ec04-427e-a5d6-42ed4e79c537/resourcegroups/MLRG01/workspaces/AzureMLWS01&amp;tid=c9b787f2-9b78-4285-bd4c-89a5d752d44b\" target=\"_blank\" rel=\"noopener\">Link to Azure Machine Learning studio</a></td></tr></table>"
          },
          "metadata": {}
        }
      ],
      "execution_count": 21,
      "metadata": {
        "jupyter": {
          "source_hidden": false,
          "outputs_hidden": false
        },
        "nteract": {
          "transient": {
            "deleting": false
          }
        },
        "gather": {
          "logged": 1737318539662
        }
      }
    }
  ],
  "metadata": {
    "kernelspec": {
      "name": "python310-sdkv2",
      "language": "python",
      "display_name": "Python 3.10 - SDK v2"
    },
    "language_info": {
      "name": "python",
      "version": "3.10.14",
      "mimetype": "text/x-python",
      "codemirror_mode": {
        "name": "ipython",
        "version": 3
      },
      "pygments_lexer": "ipython3",
      "nbconvert_exporter": "python",
      "file_extension": ".py"
    },
    "microsoft": {
      "ms_spell_check": {
        "ms_spell_check_language": "en"
      },
      "host": {
        "AzureML": {
          "notebookHasBeenCompleted": true
        }
      }
    },
    "kernel_info": {
      "name": "python310-sdkv2"
    },
    "nteract": {
      "version": "nteract-front-end@1.0.0"
    }
  },
  "nbformat": 4,
  "nbformat_minor": 2
}