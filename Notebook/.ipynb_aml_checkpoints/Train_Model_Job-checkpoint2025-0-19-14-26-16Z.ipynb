{
  "cells": [
    {
      "cell_type": "markdown",
      "source": [
        "1. Use a Command Job to create a Machine Learning Model"
      ],
      "metadata": {
        "nteract": {
          "transient": {
            "deleting": false
          }
        }
      }
    },
    {
      "cell_type": "markdown",
      "source": [
        "A Command Job in Azure Machine Learning (Azure ML) is a job type that allows you to execute a Python script, shell command, or any executable in a containerized environment. It is often used to run machine learning training scripts, data preprocessing steps, or custom tasks in Azure ML."
      ],
      "metadata": {
        "nteract": {
          "transient": {
            "deleting": false
          }
        }
      }
    },
    {
      "cell_type": "markdown",
      "source": [
        "For command job the below arguments are required\n",
        "- code: Path to the directory containing the script or code files.\n",
        "- command: The command to execute, often invoking the script (e.g., python train.py).\n",
        "- inputs: Dictionary of inputs passed to the script (e.g., data paths, hyperparameters).\n",
        "- outputs: Dictionary of outputs produced by the script (e.g., model files).\n",
        "- environment: The runtime environment, including dependencies (e.g., Python packages, Docker image).\n",
        "- compute: The compute target to use (e.g., a virtual machine or compute cluster in Azure ML).\n",
        "- description: A brief description of the job's purpose.\n"
      ],
      "metadata": {
        "nteract": {
          "transient": {
            "deleting": false
          }
        }
      }
    },
    {
      "cell_type": "code",
      "source": [
        "## Create a handle to Workspace\n",
        "from azure.ai.ml import MLClient\n",
        "from azure.identity import DefaultAzureCredential\n",
        "subscription='73f10b45-ec04-427e-a5d6-42ed4e79c537'\n",
        "resourcegroup='MLRG01'\n",
        "workspace='AzureMLWS01'\n",
        "\n",
        "ml_client=MLClient(credential=DefaultAzureCredential(),\n",
        "subscription_id=subscription,\n",
        "resource_group_name=resourcegroup,\n",
        "workspace_name=workspace)"
      ],
      "outputs": [],
      "execution_count": 2,
      "metadata": {
        "jupyter": {
          "source_hidden": false,
          "outputs_hidden": false
        },
        "nteract": {
          "transient": {
            "deleting": false
          }
        },
        "gather": {
          "logged": 1737296747781
        }
      }
    },
    {
      "cell_type": "code",
      "source": [
        "ml_client.workspace_name"
      ],
      "outputs": [
        {
          "output_type": "execute_result",
          "execution_count": 3,
          "data": {
            "text/plain": "'AzureMLWS01'"
          },
          "metadata": {}
        }
      ],
      "execution_count": 3,
      "metadata": {
        "jupyter": {
          "source_hidden": false,
          "outputs_hidden": false
        },
        "nteract": {
          "transient": {
            "deleting": false
          }
        },
        "gather": {
          "logged": 1737296751221
        }
      }
    }
  ],
  "metadata": {
    "kernelspec": {
      "name": "python310-sdkv2",
      "language": "python",
      "display_name": "Python 3.10 - SDK v2"
    },
    "language_info": {
      "name": "python",
      "version": "3.10.14",
      "mimetype": "text/x-python",
      "codemirror_mode": {
        "name": "ipython",
        "version": 3
      },
      "pygments_lexer": "ipython3",
      "nbconvert_exporter": "python",
      "file_extension": ".py"
    },
    "microsoft": {
      "ms_spell_check": {
        "ms_spell_check_language": "en"
      }
    },
    "kernel_info": {
      "name": "python310-sdkv2"
    },
    "nteract": {
      "version": "nteract-front-end@1.0.0"
    }
  },
  "nbformat": 4,
  "nbformat_minor": 2
}