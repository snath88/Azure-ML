{
  "cells": [
    {
      "cell_type": "markdown",
      "source": [
        "# 1. Use a Command Job to create a Machine Learning Model"
      ],
      "metadata": {
        "nteract": {
          "transient": {
            "deleting": false
          }
        }
      }
    },
    {
      "cell_type": "markdown",
      "source": [
        "A Command Job in Azure Machine Learning (Azure ML) is a job type that allows you to execute a Python script, shell command, or any executable in a containerized environment. It is often used to run machine learning training scripts, data preprocessing steps, or custom tasks in Azure ML."
      ],
      "metadata": {
        "nteract": {
          "transient": {
            "deleting": false
          }
        }
      }
    },
    {
      "cell_type": "markdown",
      "source": [
        "For command job the below arguments are required\n",
        "- code: Path to the directory containing the script or code files.\n",
        "- command: The command to execute, often invoking the script (e.g., python train.py).\n",
        "- inputs: Dictionary of inputs passed to the script (e.g., data paths, hyperparameters).\n",
        "- outputs: Dictionary of outputs produced by the script (e.g., model files).\n",
        "- environment: The runtime environment, including dependencies (e.g., Python packages, Docker image).\n",
        "- compute: The compute target to use (e.g., a virtual machine or compute cluster in Azure ML).\n",
        "- description: A brief description of the job's purpose.\n"
      ],
      "metadata": {
        "nteract": {
          "transient": {
            "deleting": false
          }
        }
      }
    },
    {
      "cell_type": "code",
      "source": [
        "## Create a handle to Workspace\n",
        "from azure.ai.ml import MLClient\n",
        "from azure.identity import DefaultAzureCredential\n",
        "subscription='73f10b45-ec04-427e-a5d6-42ed4e79c537'\n",
        "resourcegroup='MLRG01'\n",
        "workspace='AzureMLWS01'\n",
        "\n",
        "ml_client=MLClient(credential=DefaultAzureCredential(),\n",
        "subscription_id=subscription,\n",
        "resource_group_name=resourcegroup,\n",
        "workspace_name=workspace)"
      ],
      "outputs": [],
      "execution_count": 1,
      "metadata": {
        "jupyter": {
          "source_hidden": false,
          "outputs_hidden": false
        },
        "nteract": {
          "transient": {
            "deleting": false
          }
        },
        "gather": {
          "logged": 1737394954798
        }
      }
    },
    {
      "cell_type": "code",
      "source": [
        "ml_client.workspace_name"
      ],
      "outputs": [
        {
          "output_type": "execute_result",
          "execution_count": 2,
          "data": {
            "text/plain": "'AzureMLWS01'"
          },
          "metadata": {}
        }
      ],
      "execution_count": 2,
      "metadata": {
        "jupyter": {
          "source_hidden": false,
          "outputs_hidden": false
        },
        "nteract": {
          "transient": {
            "deleting": false
          }
        },
        "gather": {
          "logged": 1737394958074
        }
      }
    },
    {
      "cell_type": "code",
      "source": [
        "ws=ml_client.workspaces.get(workspace)\n",
        "ws.name, ws.resource_group"
      ],
      "outputs": [
        {
          "output_type": "execute_result",
          "execution_count": 3,
          "data": {
            "text/plain": "('AzureMLWS01', 'MLRG01')"
          },
          "metadata": {}
        }
      ],
      "execution_count": 3,
      "metadata": {
        "jupyter": {
          "source_hidden": false,
          "outputs_hidden": false
        },
        "nteract": {
          "transient": {
            "deleting": false
          }
        },
        "gather": {
          "logged": 1737394960799
        }
      }
    },
    {
      "cell_type": "markdown",
      "source": [
        "# 2. Create the job Env"
      ],
      "metadata": {
        "nteract": {
          "transient": {
            "deleting": false
          }
        }
      }
    },
    {
      "cell_type": "code",
      "source": [
        "import os\n",
        "dependecies_dir='../dependencies'\n",
        "os.makedirs(dependecies_dir,exist_ok=True)\n",
        "#Users/mr.snath88/dependencies\n",
        "## then upload the conda.yaml file"
      ],
      "outputs": [],
      "execution_count": 8,
      "metadata": {
        "jupyter": {
          "source_hidden": false,
          "outputs_hidden": false
        },
        "nteract": {
          "transient": {
            "deleting": false
          }
        },
        "gather": {
          "logged": 1737304980888
        }
      }
    },
    {
      "cell_type": "code",
      "source": [
        "from azure.ai.ml.entities import Environment\n",
        "\n",
        "custom_job_env = Environment(\n",
        "    name=\"sklearn-env\",\n",
        "    description=\"Environment for sklearn-based training\",\n",
        "    conda_file=\"../dependencies/conda.yaml\",\n",
        "    image=\"mcr.microsoft.com/azureml/openmpi4.1.0-ubuntu20.04:latest\",\n",
        ")\n",
        "\n",
        "custom_job_env=ml_client.environments.create_or_update(custom_job_env)\n",
        "\n",
        "print(f'Env: {custom_job_env.name} created and the version is {custom_job_env.version}')"
      ],
      "outputs": [
        {
          "output_type": "stream",
          "name": "stdout",
          "text": "Env: sklearn-env created and the version is 9\n"
        }
      ],
      "execution_count": 13,
      "metadata": {
        "jupyter": {
          "source_hidden": false,
          "outputs_hidden": false
        },
        "nteract": {
          "transient": {
            "deleting": false
          }
        },
        "gather": {
          "logged": 1737334448158
        }
      }
    },
    {
      "cell_type": "markdown",
      "source": [
        "# 3. Create Training Script"
      ],
      "metadata": {
        "nteract": {
          "transient": {
            "deleting": false
          }
        }
      }
    },
    {
      "cell_type": "code",
      "source": [
        "## create directory\n",
        "script_path='../src'\n",
        "os.makedirs(script_path,exist_ok=True)"
      ],
      "outputs": [],
      "execution_count": 14,
      "metadata": {
        "jupyter": {
          "source_hidden": false,
          "outputs_hidden": false
        },
        "nteract": {
          "transient": {
            "deleting": false
          }
        },
        "gather": {
          "logged": 1737308735685
        }
      }
    },
    {
      "cell_type": "markdown",
      "source": [
        "# 4. Configure the command"
      ],
      "metadata": {
        "nteract": {
          "transient": {
            "deleting": false
          }
        }
      }
    },
    {
      "cell_type": "code",
      "source": [
        "from azure.ai.ml import command\n",
        "# Define the command job\n",
        "# job = command(\n",
        "#     code=\"./\",  # Path to the directory containing the script\n",
        "#     command=\"python training_script_with_argparse.py --data Social_Network_Ads --test_train_ratio 0.2 --estimator random_forest --registered_model_name my_registered_model\",\n",
        "#     environment=\"azureml:my-custom-environment:1\",  # Predefined environment or use your own\n",
        "#     compute=\"<your-compute-cluster>\",  # Cluster for execution\n",
        "#     experiment_name=\"train_with_argparse\",\n",
        "# )\n",
        "\n",
        "###defining the arguments by dictionary\n",
        "\n",
        "input_params = {\n",
        "    \"data\": \"Social_Network_Ads\",\n",
        "    \"test_train_ratio\": 0.2,\n",
        "    \"estimator\": \"random_forest\",\n",
        "    \"registered_model_name\": \"Social_Media_Model\",\n",
        "}\n",
        "\n",
        "arguments = \" \".join([f\"--{key} {value}\" for key, value in input_params.items()])\n",
        "\n",
        "job = command(\n",
        "    code=\"../src/\",  # Path to the directory containing the script\n",
        "    command=f\"python main.py {arguments}\",\n",
        "    environment=\"sklearn-env@latest\",  # Predefined environment or use your own\n",
        "    experiment_name=\"Social_Media_exp\",\n",
        "    display_name='Social_mdeia_Ads_classification',\n",
        ")\n",
        "\n",
        "ml_client.jobs.create_or_update(job)"
      ],
      "outputs": [
        {
          "output_type": "stream",
          "name": "stderr",
          "text": "\r\u001b[32mUploading src (0.01 MBs):   0%|          | 0/8234 [00:00<?, ?it/s]\r\u001b[32mUploading src (0.01 MBs): 100%|██████████| 8234/8234 [00:00<00:00, 126008.94it/s]\n\u001b[39m\n\n"
        },
        {
          "output_type": "execute_result",
          "execution_count": 24,
          "data": {
            "text/plain": "Command({'parameters': {}, 'init': False, 'name': 'salmon_panda_t77k6s5l3r', 'type': 'command', 'status': 'Starting', 'log_files': None, 'description': None, 'tags': {}, 'properties': {'_azureml.ComputeTargetType': 'amlctrain', '_azureml.ClusterName': None, 'ContentSnapshotId': 'a87a1ed3-4485-4295-9520-f02871519b0d'}, 'print_as_yaml': False, 'id': '/subscriptions/73f10b45-ec04-427e-a5d6-42ed4e79c537/resourceGroups/MLRG01/providers/Microsoft.MachineLearningServices/workspaces/AzureMLWS01/jobs/salmon_panda_t77k6s5l3r', 'Resource__source_path': '', 'base_path': '/mnt/batch/tasks/shared/LS_root/mounts/clusters/compute-azure/code/Users/mr.snath88/Notebook', 'creation_context': <azure.ai.ml.entities._system_data.SystemData object at 0x7f37b66571f0>, 'serialize': <msrest.serialization.Serializer object at 0x7f37b6655660>, 'allowed_keys': {}, 'key_restriction': False, 'logger': <TraceLogger attr_dict (WARNING)>, 'display_name': 'Social_mdeia_Ads_classification', 'experiment_name': 'Social_Media_exp', 'compute': None, 'services': {'Tracking': {'endpoint': 'azureml://centralindia.api.azureml.ms/mlflow/v1.0/subscriptions/73f10b45-ec04-427e-a5d6-42ed4e79c537/resourceGroups/MLRG01/providers/Microsoft.MachineLearningServices/workspaces/AzureMLWS01?', 'type': 'Tracking'}, 'Studio': {'endpoint': 'https://ml.azure.com/runs/salmon_panda_t77k6s5l3r?wsid=/subscriptions/73f10b45-ec04-427e-a5d6-42ed4e79c537/resourcegroups/MLRG01/workspaces/AzureMLWS01&tid=c9b787f2-9b78-4285-bd4c-89a5d752d44b', 'type': 'Studio'}}, 'comment': None, 'job_inputs': {}, 'job_outputs': {'default': {'type': 'uri_folder', 'path': 'azureml://datastores/workspaceartifactstore/ExperimentRun/dcid.salmon_panda_t77k6s5l3r', 'mode': 'rw_mount'}}, 'inputs': {}, 'outputs': {'default': <azure.ai.ml.entities._job.pipeline._io.base.NodeOutput object at 0x7f37b66556f0>}, 'component': CommandComponent({'latest_version': None, 'intellectual_property': None, 'auto_increment_version': True, 'source': 'REMOTE.WORKSPACE.JOB', 'is_anonymous': False, 'auto_delete_setting': None, 'name': 'salmon_panda_t77k6s5l3r', 'description': None, 'tags': {}, 'properties': {}, 'print_as_yaml': False, 'id': None, 'Resource__source_path': None, 'base_path': '/mnt/batch/tasks/shared/LS_root/mounts/clusters/compute-azure/code/Users/mr.snath88/Notebook', 'creation_context': <azure.ai.ml.entities._system_data.SystemData object at 0x7f37b66571f0>, 'serialize': <msrest.serialization.Serializer object at 0x7f37b66557e0>, 'command': 'python main.py --data Social_Network_Ads --test_train_ratio 0.2 --estimator random_forest --registered_model_name Social_mdedia_model', 'code': '/subscriptions/73f10b45-ec04-427e-a5d6-42ed4e79c537/resourceGroups/MLRG01/providers/Microsoft.MachineLearningServices/workspaces/AzureMLWS01/codes/485df93b-5678-4491-b629-59b66efebdb9/versions/1', 'environment_variables': {}, 'environment': '/subscriptions/73f10b45-ec04-427e-a5d6-42ed4e79c537/resourceGroups/MLRG01/providers/Microsoft.MachineLearningServices/workspaces/AzureMLWS01/environments/sklearn-env/versions/9', 'distribution': None, 'resources': None, 'queue_settings': None, 'version': None, 'schema': None, 'type': 'command', 'display_name': 'Social_mdeia_Ads_classification', 'is_deterministic': True, 'inputs': {}, 'outputs': {'default': {'type': 'uri_folder', 'path': 'azureml://datastores/workspaceartifactstore/ExperimentRun/dcid.salmon_panda_t77k6s5l3r', 'mode': 'rw_mount'}}, 'yaml_str': None, 'other_parameter': {'status': 'Starting', 'parameters': {}}, 'additional_includes': []}), 'referenced_control_flow_node_instance_id': None, 'kwargs': {'services': {'Tracking': {'endpoint': 'azureml://centralindia.api.azureml.ms/mlflow/v1.0/subscriptions/73f10b45-ec04-427e-a5d6-42ed4e79c537/resourceGroups/MLRG01/providers/Microsoft.MachineLearningServices/workspaces/AzureMLWS01?', 'type': 'Tracking'}, 'Studio': {'endpoint': 'https://ml.azure.com/runs/salmon_panda_t77k6s5l3r?wsid=/subscriptions/73f10b45-ec04-427e-a5d6-42ed4e79c537/resourcegroups/MLRG01/workspaces/AzureMLWS01&tid=c9b787f2-9b78-4285-bd4c-89a5d752d44b', 'type': 'Studio'}}, 'status': 'Starting', 'creation_context': <azure.ai.ml.entities._system_data.SystemData object at 0x7f37b66571f0>}, 'instance_id': '82a8e518-c092-42ea-837d-0dd495562f52', 'source': 'BUILDER', 'validate_required_input_not_provided': True, 'limits': None, 'identity': None, 'distribution': None, 'environment_variables': {}, 'environment': 'sklearn-env:9', 'resources': {'instance_count': 1, 'shm_size': '2g'}, 'queue_settings': {'job_tier': 'standard'}, 'swept': False})",
            "text/html": "<table style=\"width:100%\"><tr><th>Experiment</th><th>Name</th><th>Type</th><th>Status</th><th>Details Page</th></tr><tr><td>Social_Media_exp</td><td>salmon_panda_t77k6s5l3r</td><td>command</td><td>Starting</td><td><a href=\"https://ml.azure.com/runs/salmon_panda_t77k6s5l3r?wsid=/subscriptions/73f10b45-ec04-427e-a5d6-42ed4e79c537/resourcegroups/MLRG01/workspaces/AzureMLWS01&amp;tid=c9b787f2-9b78-4285-bd4c-89a5d752d44b\" target=\"_blank\" rel=\"noopener\">Link to Azure Machine Learning studio</a></td></tr></table>"
          },
          "metadata": {}
        }
      ],
      "execution_count": 24,
      "metadata": {
        "jupyter": {
          "source_hidden": false,
          "outputs_hidden": false
        },
        "nteract": {
          "transient": {
            "deleting": false
          }
        },
        "gather": {
          "logged": 1737335622703
        }
      }
    },
    {
      "cell_type": "markdown",
      "source": [
        "Get the latest model"
      ],
      "metadata": {
        "nteract": {
          "transient": {
            "deleting": false
          }
        }
      }
    },
    {
      "cell_type": "code",
      "source": [
        "model_name=''\n",
        "# model=list(ml_client.models.list())\n",
        "for models in ml_client.models.list():\n",
        "    print(models.name)"
      ],
      "outputs": [
        {
          "output_type": "stream",
          "name": "stdout",
          "text": "amlstudio-azureml-loan-applica\nazureml_b3128233-70ba-405d-b193-77a5d1dcaa0e_output_mlflow_log_model_1858157903\nazureml_9c21282c-915d-469a-ad5e-df7e8a8c0c28_output_mlflow_log_model_662056380\nazureml_0b62c88f-676b-42fc-8434-c4918047c689_output_mlflow_log_model_662056380\nazureml_828fa006-2fbf-435f-a134-1726fe49133b_output_mlflow_log_model_398141616\nazureml_ab0b36c3-ee29-4f87-b5cb-db44d2e9c337_output_mlflow_log_model_1858157903\nazureml_salmon_panda_t77k6s5l3r_output_mlflow_log_model_662056380\nazureml_salmon_panda_t77k6s5l3r_output_mlflow_log_model_917862491\nSocial_mdedia_model\n"
        }
      ],
      "execution_count": 10,
      "metadata": {
        "jupyter": {
          "source_hidden": false,
          "outputs_hidden": false
        },
        "nteract": {
          "transient": {
            "deleting": false
          }
        },
        "gather": {
          "logged": 1737395300787
        }
      }
    },
    {
      "cell_type": "markdown",
      "source": [
        "# 5. Creating the endpoints"
      ],
      "metadata": {
        "nteract": {
          "transient": {
            "deleting": false
          }
        }
      }
    },
    {
      "cell_type": "code",
      "source": [
        "import uuid\n",
        "str(uuid.uuid4())[:8]"
      ],
      "outputs": [
        {
          "output_type": "execute_result",
          "execution_count": 23,
          "data": {
            "text/plain": "'e99b9eab'"
          },
          "metadata": {}
        }
      ],
      "execution_count": 23,
      "metadata": {
        "gather": {
          "logged": 1737334787479
        }
      }
    }
  ],
  "metadata": {
    "kernelspec": {
      "name": "python310-sdkv2",
      "language": "python",
      "display_name": "Python 3.10 - SDK v2"
    },
    "language_info": {
      "name": "python",
      "version": "3.10.14",
      "mimetype": "text/x-python",
      "codemirror_mode": {
        "name": "ipython",
        "version": 3
      },
      "pygments_lexer": "ipython3",
      "nbconvert_exporter": "python",
      "file_extension": ".py"
    },
    "microsoft": {
      "ms_spell_check": {
        "ms_spell_check_language": "en"
      },
      "host": {
        "AzureML": {
          "notebookHasBeenCompleted": true
        }
      }
    },
    "kernel_info": {
      "name": "python310-sdkv2"
    },
    "nteract": {
      "version": "nteract-front-end@1.0.0"
    }
  },
  "nbformat": 4,
  "nbformat_minor": 2
}